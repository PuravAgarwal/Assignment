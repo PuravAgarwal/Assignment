{
 "cells": [
  {
   "cell_type": "code",
   "execution_count": 1,
   "id": "40b49db3-3a82-4ebb-926d-1490fe3c9b98",
   "metadata": {},
   "outputs": [],
   "source": [
    "s1= '''Q1, Create a vehicle class with an init method having instance variables as \n",
    "name_of_vehicle, max_speed and average_of_vehicle.'''"
   ]
  },
  {
   "cell_type": "code",
   "execution_count": 2,
   "id": "50e3f832-9122-454c-ade8-60154ef111d7",
   "metadata": {},
   "outputs": [],
   "source": [
    "class vehicle:\n",
    "    \n",
    "    def __init__ (self, name, speed, average):\n",
    "        self.name_of_vehicle = name\n",
    "        self.max_speed = speed\n",
    "        self.average_of_vehicle=  average"
   ]
  },
  {
   "cell_type": "code",
   "execution_count": 3,
   "id": "79822d5e-ca44-48a2-9285-2f0710fb3b0b",
   "metadata": {},
   "outputs": [],
   "source": [
    "a= vehicle( \"Toyota\" , 200 , 25)"
   ]
  },
  {
   "cell_type": "code",
   "execution_count": 5,
   "id": "d5833395-c4e7-440a-962b-6b7c3f99a06a",
   "metadata": {},
   "outputs": [],
   "source": [
    "s2 = '''Create a child class car from the vehicle class created in Que 1, which will inherit the\n",
    "vehicle class. Create a method named seating_capacity which takes capacity as an argument and \n",
    "returns the name of the vehicle and its seating capacity.'''"
   ]
  },
  {
   "cell_type": "code",
   "execution_count": 10,
   "id": "442186b5-3456-4a1b-80dd-39b1de6ec341",
   "metadata": {},
   "outputs": [],
   "source": [
    "class car(vehicle):\n",
    "    def seating_capacity(self, cap):\n",
    "        self.seating_capacity = cap\n",
    "        return self.seating_capacity, self.name_of_vehicle"
   ]
  },
  {
   "cell_type": "code",
   "execution_count": 14,
   "id": "e05cdee5-e324-4d82-834d-22b3b90c71e5",
   "metadata": {},
   "outputs": [],
   "source": [
    "b= car( \"Toyota\" , 100 , 30)"
   ]
  },
  {
   "cell_type": "code",
   "execution_count": 15,
   "id": "a515567c-60fb-4063-ad4c-0acd802a3952",
   "metadata": {},
   "outputs": [
    {
     "data": {
      "text/plain": [
       "(6, 'Toyota')"
      ]
     },
     "execution_count": 15,
     "metadata": {},
     "output_type": "execute_result"
    }
   ],
   "source": [
    "b.seating_capacity(6)"
   ]
  },
  {
   "cell_type": "code",
   "execution_count": 16,
   "id": "f37d3bb3-6fbd-42a0-9e0e-c16600536826",
   "metadata": {},
   "outputs": [],
   "source": [
    "s3= '''What is multiple inheritance? Write a python code to demonstrate multiple inheritance.'''"
   ]
  },
  {
   "cell_type": "code",
   "execution_count": 17,
   "id": "c1eaa5eb-056a-4dc9-9e84-e9c1a89bc429",
   "metadata": {},
   "outputs": [],
   "source": [
    "a3= '''When a class can be derived from more than one base this type of inheritance is \n",
    "called multiple inheritances. '''"
   ]
  },
  {
   "cell_type": "code",
   "execution_count": 21,
   "id": "0883d7f5-ea45-4fcc-82b8-dc6dfdcf7005",
   "metadata": {},
   "outputs": [],
   "source": [
    "class A:\n",
    "    def prop(self):\n",
    "        return \"JoD\"\n",
    "class B:\n",
    "    def age(self):\n",
    "        return (18)\n",
    "\n",
    "class C (A,B):\n",
    "    pass\n",
    "\n",
    "a2= C()"
   ]
  },
  {
   "cell_type": "code",
   "execution_count": 22,
   "id": "830d28ef-e833-4043-9216-3baab8392bbf",
   "metadata": {},
   "outputs": [
    {
     "data": {
      "text/plain": [
       "18"
      ]
     },
     "execution_count": 22,
     "metadata": {},
     "output_type": "execute_result"
    }
   ],
   "source": [
    "a2.age()"
   ]
  },
  {
   "cell_type": "code",
   "execution_count": 23,
   "id": "dca60aa2-a794-4518-b428-b4c37c75229d",
   "metadata": {},
   "outputs": [
    {
     "data": {
      "text/plain": [
       "'JoD'"
      ]
     },
     "execution_count": 23,
     "metadata": {},
     "output_type": "execute_result"
    }
   ],
   "source": [
    "a2.prop()"
   ]
  },
  {
   "cell_type": "code",
   "execution_count": 24,
   "id": "c0c92a77-00ac-4008-b5f0-2a8f7ca60e82",
   "metadata": {},
   "outputs": [],
   "source": [
    "s4= '''What are getter and setter in python? Create a class and create a getter and a setter method in this\n",
    "class.'''"
   ]
  },
  {
   "cell_type": "code",
   "execution_count": 25,
   "id": "9f1a105d-1b62-4b58-80bf-38baf6114c80",
   "metadata": {},
   "outputs": [],
   "source": [
    "a4 = '''the main purpose of using getters and setters in object-oriented programs is to ensure data encapsulation. \n",
    "Private variables in python are not actually hidden fields like in other object oriented languages. Getters and Setters\n",
    "in python are often used when:\n",
    ". We use getters & setters to add validation logic around getting and setting a value.\n",
    ". To avoid direct access of a class field i.e. private variables cannot be accessed directly or modified by external user.'''"
   ]
  },
  {
   "cell_type": "code",
   "execution_count": 26,
   "id": "eac65945-fbf1-487f-8d86-0159da7a7bea",
   "metadata": {},
   "outputs": [],
   "source": [
    "class J0D:\n",
    "    \n",
    "    def __init__( self, model, year, number):\n",
    "        self.__model = model\n",
    "        self.__year = year\n",
    "        self.__number = 100\n",
    "        \n",
    "    def set_number(self, number):\n",
    "        self.__number = number if number>0 else 0\n",
    "        \n",
    "    def get_number(self):\n",
    "        return self.__number"
   ]
  },
  {
   "cell_type": "code",
   "execution_count": 27,
   "id": "e2c2f48a-19cf-42a0-b884-8f3df6ddb7c2",
   "metadata": {},
   "outputs": [],
   "source": [
    "s5= ''' Q5.What is method overriding in python? Write a python code to demonstrate method overriding.'''"
   ]
  },
  {
   "cell_type": "code",
   "execution_count": 28,
   "id": "653efa02-9c1e-4378-9a73-335374c81428",
   "metadata": {},
   "outputs": [
    {
     "name": "stdout",
     "output_type": "stream",
     "text": [
      "Total Working Hrs :  50\n",
      "Total Working Hrs :  60\n",
      "Total Working Hrs :  50\n"
     ]
    }
   ],
   "source": [
    "a5= '''Function overriding in Python is the ability of a subclass to provide a different implementation of a method that is already\n",
    "defined in its superclass. In other words, it is the process of redefining a method in a derived class that already exists in the\n",
    "base class. This is useful when a subclass wants to change the behavior of a method inherited from its superclass. The method in the\n",
    "subclass is said to override the method in the superclass and the subclass method is called instead of the superclass method when the\n",
    "method is called on an instance of the subclass.'''\n",
    "\n",
    "class Employee:\n",
    "    def WorkingHrs(self):\n",
    "        self.hrs = 50\n",
    " \n",
    "    def printHrs(self):\n",
    "        print(\"Total Working Hrs : \", self.hrs)\n",
    " \n",
    " \n",
    "class Trainee(Employee):\n",
    "    def WorkingHrs(self):\n",
    "        self.hrs = 60\n",
    " \n",
    "    def resetHrs(self):\n",
    "        super().WorkingHrs()\n",
    " \n",
    " \n",
    "employee = Employee()\n",
    "employee.WorkingHrs()\n",
    "employee.printHrs()\n",
    " \n",
    "trainee=Trainee()\n",
    "trainee.WorkingHrs()\n",
    "trainee.printHrs()\n",
    "\n",
    "trainee.resetHrs()\n",
    "trainee.printHrs()"
   ]
  },
  {
   "cell_type": "code",
   "execution_count": null,
   "id": "b665a029-1b9c-4da4-943c-f639d7a6c2b0",
   "metadata": {},
   "outputs": [],
   "source": []
  }
 ],
 "metadata": {
  "kernelspec": {
   "display_name": "Python 3 (ipykernel)",
   "language": "python",
   "name": "python3"
  },
  "language_info": {
   "codemirror_mode": {
    "name": "ipython",
    "version": 3
   },
   "file_extension": ".py",
   "mimetype": "text/x-python",
   "name": "python",
   "nbconvert_exporter": "python",
   "pygments_lexer": "ipython3",
   "version": "3.10.8"
  }
 },
 "nbformat": 4,
 "nbformat_minor": 5
}
