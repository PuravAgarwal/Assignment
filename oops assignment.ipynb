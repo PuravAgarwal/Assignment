{
 "cells": [
  {
   "cell_type": "code",
   "execution_count": 34,
   "id": "4e524a4f-a673-4795-a1a2-e9ed30b971e6",
   "metadata": {},
   "outputs": [],
   "source": [
    "s = ''' Which function is used to open a file? What are the different modes of opening a file? Explain each mode\n",
    "of file opening.'''"
   ]
  },
  {
   "cell_type": "code",
   "execution_count": 35,
   "id": "9056929a-9a40-4bd7-989a-5a87564e99ae",
   "metadata": {},
   "outputs": [],
   "source": [
    "ans = '''\n",
    "open() function is used to open a file.\n",
    "\n",
    "You can open a file in 3 modes:- read, write and append.\n",
    "\n",
    "Ex:- \n",
    "f = open(\"File.name\", w/r/a)\n",
    "'''"
   ]
  },
  {
   "cell_type": "code",
   "execution_count": 36,
   "id": "c60d0ffd-9b56-456c-9770-416d87427c9b",
   "metadata": {},
   "outputs": [],
   "source": [
    "s2 = '''Q2. Why close() function is used? Why is it important to close a file?'''\n"
   ]
  },
  {
   "cell_type": "code",
   "execution_count": 37,
   "id": "a933261e-a398-4ed3-b24d-805920e840af",
   "metadata": {},
   "outputs": [],
   "source": [
    "ans2 = '''\n",
    "Close function is used to close a file. it is very important to close a file to prevent any loss of data or to prevent any \n",
    "overlapping of data.\n",
    "\n",
    "If we don't close the file the cursor still remains in that file which may cause these things. So it is best to close a file after\n",
    "it's use is done.'''"
   ]
  },
  {
   "cell_type": "code",
   "execution_count": 38,
   "id": "4dbcc32b-de55-4b34-a908-0a8e95ae3e19",
   "metadata": {},
   "outputs": [],
   "source": [
    "s3 = '''Write a python program to create a text file. Write ‘I want to become a Data Scientist’ in that file. Then\n",
    "close the file. Open this file and read the content of the file.'''"
   ]
  },
  {
   "cell_type": "code",
   "execution_count": 39,
   "id": "3b7b28d4-7cc2-4a8c-a3d8-f2a027122683",
   "metadata": {},
   "outputs": [],
   "source": [
    "f = open(\"Data.txt\", 'w')\n",
    "f.write(\"I want to become a data scientist\")\n",
    "f.close()"
   ]
  },
  {
   "cell_type": "code",
   "execution_count": 40,
   "id": "644e7e27-0099-4bd3-93c7-f0c5e3b09747",
   "metadata": {},
   "outputs": [
    {
     "name": "stdout",
     "output_type": "stream",
     "text": [
      "I want to become a data scientist"
     ]
    }
   ],
   "source": [
    "f = open(\"Data.txt\", 'r')\n",
    "w = f.read()\n",
    "for i in w:\n",
    "    print (i, end =\"\")\n",
    "f.close()"
   ]
  },
  {
   "cell_type": "code",
   "execution_count": 41,
   "id": "26968e83-7e5e-4442-994b-9bac87b16ba4",
   "metadata": {},
   "outputs": [],
   "source": [
    "s4 = '''Q4. Explain the following with python code: read(), readline() and readlines().'''"
   ]
  },
  {
   "cell_type": "code",
   "execution_count": 42,
   "id": "c7193501-aea0-471e-984f-57e998b10e91",
   "metadata": {},
   "outputs": [],
   "source": [
    "ans4 = ''' read is used to read character by character and reads the entire file\n",
    "readline is reads the file line by line returns string whereas \n",
    "readlines also reads line by line but returns a lsit of strings '''"
   ]
  },
  {
   "cell_type": "code",
   "execution_count": 43,
   "id": "2a7616f2-cc58-4a47-988b-7c98739d1c7c",
   "metadata": {},
   "outputs": [],
   "source": [
    "f = open(\"Wp.txt\" , 'w')"
   ]
  },
  {
   "cell_type": "code",
   "execution_count": 44,
   "id": "abe2bc82-0d5c-427e-b2ef-3c47f00889ef",
   "metadata": {},
   "outputs": [],
   "source": [
    "f.write(\"This is my first line \\n This is my second line \\n This is my third line\")\n",
    "f.close()"
   ]
  },
  {
   "cell_type": "code",
   "execution_count": 45,
   "id": "76f072e8-c826-4b07-b9c1-2eca49235d75",
   "metadata": {},
   "outputs": [
    {
     "name": "stdout",
     "output_type": "stream",
     "text": [
      "This is my first line \n",
      " This is my second line \n",
      " This is my third line\n"
     ]
    }
   ],
   "source": [
    "f = open(\"Wp.txt\" , 'r')\n",
    "re = f.read()\n",
    "print (re)\n",
    "f.close()"
   ]
  },
  {
   "cell_type": "code",
   "execution_count": 46,
   "id": "8afaf64c-9f87-485a-b021-54e0df8f4290",
   "metadata": {},
   "outputs": [
    {
     "name": "stdout",
     "output_type": "stream",
     "text": [
      "This is my first line \n",
      "\n"
     ]
    }
   ],
   "source": [
    "f = open(\"Wp.txt\" , 'r')\n",
    "re = f.readline()\n",
    "print (re)\n",
    "f.close()"
   ]
  },
  {
   "cell_type": "code",
   "execution_count": 47,
   "id": "6df8dc7e-c8b5-458b-9cc6-5e25946c724f",
   "metadata": {},
   "outputs": [
    {
     "name": "stdout",
     "output_type": "stream",
     "text": [
      "['This is my first line \\n', ' This is my second line \\n', ' This is my third line']\n"
     ]
    }
   ],
   "source": [
    "f = open(\"Wp.txt\" , 'r')\n",
    "re = f.readlines()\n",
    "print (re)\n",
    "f.close()"
   ]
  },
  {
   "cell_type": "code",
   "execution_count": 48,
   "id": "6c1ebaa4-9298-4a00-9957-eeee971afabc",
   "metadata": {},
   "outputs": [],
   "source": [
    "s5 = '''Explain why with statement is used with open(). What is the advantage of using with statement and\n",
    "open() together?'''"
   ]
  },
  {
   "cell_type": "code",
   "execution_count": 49,
   "id": "5bd9b0bb-d64a-4f43-ac40-f77809383ca0",
   "metadata": {},
   "outputs": [],
   "source": [
    "ans5 = ''' with statement is used with open to indicate which is the file object and moreover it is a good\n",
    "practice to open a file with with because then we don't have to close the file explicitely like we have to do in \n",
    "normal open() function'''\n"
   ]
  },
  {
   "cell_type": "code",
   "execution_count": 50,
   "id": "b24b304e-e9ee-43fb-8568-f5d32281ccf9",
   "metadata": {},
   "outputs": [
    {
     "name": "stdout",
     "output_type": "stream",
     "text": [
      "This is my first line \n",
      " This is my second line \n",
      " This is my third line\n"
     ]
    }
   ],
   "source": [
    "with open( \"Wp.txt\", \"r\" ) as f:\n",
    "    a = f.read()\n",
    "    print (a)"
   ]
  },
  {
   "cell_type": "code",
   "execution_count": 51,
   "id": "17635d27-16e5-45a6-a904-ded081a54afc",
   "metadata": {},
   "outputs": [],
   "source": [
    "s6 = '''Q6. Explain the write() and writelines() functions. Give a suitable example.'''"
   ]
  },
  {
   "cell_type": "code",
   "execution_count": 53,
   "id": "c123fca1-3105-48bd-bc16-efa0d9cdaa3a",
   "metadata": {},
   "outputs": [],
   "source": [
    "ans6 = ''' write function is used to write onto a file without adding any special characters to it\n",
    "whereas in writelines is used to write down a list of string, characters, etc all together in a file at once.\n",
    "\n",
    "we can already have the content ready for the file and then write it into the file using writelines whereas with write we have to\n",
    "write as we go'''\n",
    "\n"
   ]
  },
  {
   "cell_type": "code",
   "execution_count": 58,
   "id": "14bb1d15-d8df-45ea-a97e-a531d3f42e2c",
   "metadata": {},
   "outputs": [],
   "source": [
    "st = [\"Hi this is Purav\",'\\n',  \"Nice to meet you\" , '\\n', \"It was a pleasure\"]\n",
    "f = open(\"Purav.txt\" , 'w')\n",
    "f.write(\"Hi this is Purav\")\n",
    "f.write('\\n \\n')\n",
    "\n",
    "f.writelines(st)\n",
    "\n",
    "f.close()\n"
   ]
  },
  {
   "cell_type": "code",
   "execution_count": 59,
   "id": "3e78f3e4-bd85-4405-9dfc-7798e7cba896",
   "metadata": {},
   "outputs": [
    {
     "name": "stdout",
     "output_type": "stream",
     "text": [
      "Hi this is Purav\n",
      " \n",
      "Hi this is Purav\n",
      "Nice to meet you\n",
      "It was a pleasure\n"
     ]
    }
   ],
   "source": [
    "f = open(\"Purav.txt\", 'r')\n",
    "a = f.read()\n",
    "print (a)\n",
    "f.close()"
   ]
  },
  {
   "cell_type": "code",
   "execution_count": null,
   "id": "e876ee08-b42c-4e12-8245-73f503386367",
   "metadata": {},
   "outputs": [],
   "source": []
  }
 ],
 "metadata": {
  "kernelspec": {
   "display_name": "Python 3 (ipykernel)",
   "language": "python",
   "name": "python3"
  },
  "language_info": {
   "codemirror_mode": {
    "name": "ipython",
    "version": 3
   },
   "file_extension": ".py",
   "mimetype": "text/x-python",
   "name": "python",
   "nbconvert_exporter": "python",
   "pygments_lexer": "ipython3",
   "version": "3.10.8"
  }
 },
 "nbformat": 4,
 "nbformat_minor": 5
}
