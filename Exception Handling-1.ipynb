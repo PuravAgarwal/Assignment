{
 "cells": [
  {
   "cell_type": "code",
   "execution_count": 1,
   "id": "3ae5008d-d172-4795-8d2f-8ce3d99ab8b9",
   "metadata": {},
   "outputs": [],
   "source": [
    "s1 = '''Q1. What is an Exception in pthon? Write the difference between Exceptions and syntax errors?'''"
   ]
  },
  {
   "cell_type": "code",
   "execution_count": 2,
   "id": "c46da4fd-50d9-4ad8-bc35-c1ee1c459613",
   "metadata": {},
   "outputs": [],
   "source": [
    "ans1 = '''In Python, an exception is an error that occurs during the execution of a program. When a Python \n",
    "script encounters a situation that it cannot cope with, it raises an exception. This could be due to various reasons\n",
    "such as invalid input, trying to perform an operation on incompatible data types, or accessing a resource that is \n",
    "not available.\n",
    "\n",
    "The difference betweent the syntax error and exception is that exception in pyton is raised when something unexpected happens\n",
    "like dividing a number by zero whereas syntax errors occurs due to wrong syntax. Exceptions are raised during the runtime of the program\n",
    "whereas syntax errors are raised even before the program is executed.'''\n",
    "\n"
   ]
  },
  {
   "cell_type": "code",
   "execution_count": 3,
   "id": "eec496e8-7f55-4f1c-a7e0-6212beb5f76e",
   "metadata": {},
   "outputs": [],
   "source": [
    "s2 = '''Q2. What happens when an exception is not handled? Explain with an example.'''\n"
   ]
  },
  {
   "cell_type": "code",
   "execution_count": 4,
   "id": "a9afe41f-1d27-4d08-ade1-fe819ad72ea2",
   "metadata": {},
   "outputs": [],
   "source": [
    "ans2  = ''' If the exception is not handled properly the program abruptly stops executing and raises an error'''"
   ]
  },
  {
   "cell_type": "code",
   "execution_count": 5,
   "id": "61eabaed-d118-4e74-a892-ebe652afa8cb",
   "metadata": {},
   "outputs": [
    {
     "ename": "ZeroDivisionError",
     "evalue": "division by zero",
     "output_type": "error",
     "traceback": [
      "\u001b[0;31m---------------------------------------------------------------------------\u001b[0m",
      "\u001b[0;31mZeroDivisionError\u001b[0m                         Traceback (most recent call last)",
      "Cell \u001b[0;32mIn[5], line 4\u001b[0m\n\u001b[1;32m      1\u001b[0m \u001b[38;5;28;01mdef\u001b[39;00m \u001b[38;5;21mdi\u001b[39m(x,y):\n\u001b[1;32m      2\u001b[0m     \u001b[38;5;28;01mreturn\u001b[39;00m x\u001b[38;5;241m/\u001b[39my\n\u001b[0;32m----> 4\u001b[0m \u001b[38;5;28mprint\u001b[39m(\u001b[43mdi\u001b[49m\u001b[43m(\u001b[49m\u001b[38;5;241;43m10\u001b[39;49m\u001b[43m,\u001b[49m\u001b[38;5;241;43m0\u001b[39;49m\u001b[43m)\u001b[49m)\n",
      "Cell \u001b[0;32mIn[5], line 2\u001b[0m, in \u001b[0;36mdi\u001b[0;34m(x, y)\u001b[0m\n\u001b[1;32m      1\u001b[0m \u001b[38;5;28;01mdef\u001b[39;00m \u001b[38;5;21mdi\u001b[39m(x,y):\n\u001b[0;32m----> 2\u001b[0m     \u001b[38;5;28;01mreturn\u001b[39;00m \u001b[43mx\u001b[49m\u001b[38;5;241;43m/\u001b[39;49m\u001b[43my\u001b[49m\n",
      "\u001b[0;31mZeroDivisionError\u001b[0m: division by zero"
     ]
    }
   ],
   "source": [
    "def di(x,y):\n",
    "    return x/y\n",
    "\n",
    "print(di(10,0))"
   ]
  },
  {
   "cell_type": "code",
   "execution_count": 6,
   "id": "3294ae0c-64f4-47a3-8e7a-e9c50785b82d",
   "metadata": {},
   "outputs": [],
   "source": [
    "s3 = '''Q3. Which Python statements are used to catch and handle  exceptions? Explain with an example. '''"
   ]
  },
  {
   "cell_type": "code",
   "execution_count": 7,
   "id": "ab3168e6-bcf1-423e-9eb6-6aca52648b17",
   "metadata": {},
   "outputs": [],
   "source": [
    "ans3 = ''' In python we have 4 keywords that are used to catch and handle exceptions, \n",
    "try, except, else and finally '''\n"
   ]
  },
  {
   "cell_type": "code",
   "execution_count": 9,
   "id": "92530b5d-fba9-411e-af11-c153ef0dd2e0",
   "metadata": {},
   "outputs": [
    {
     "name": "stdout",
     "output_type": "stream",
     "text": [
      "Can't divide a number by zero\n",
      "None\n"
     ]
    }
   ],
   "source": [
    "def di(x,y):\n",
    "    try:\n",
    "        return x/y\n",
    "    except:\n",
    "        print(\"Can't divide a number by zero\")\n",
    "print(di(10,0))"
   ]
  },
  {
   "cell_type": "code",
   "execution_count": 10,
   "id": "c02fd259-d6e0-4e91-80f1-a99a23194c94",
   "metadata": {},
   "outputs": [],
   "source": [
    "s4 = '''Q4. Explain with an example:\n",
    "try and else\n",
    "finally \n",
    "raise '''\n"
   ]
  },
  {
   "cell_type": "code",
   "execution_count": 11,
   "id": "eae4fbcd-1364-4609-99b8-b37a8759c838",
   "metadata": {},
   "outputs": [],
   "source": [
    "ans4 = ''' In try and else the else block is executed if there is no exception then the else block is executed after the try block\n",
    "\n",
    "When finally is used it gets execute no matter if the exception is raised or not \n",
    "\n",
    "raise is used to when we handle a custom exception like entered age can't be negative and raises an exception '''\n"
   ]
  },
  {
   "cell_type": "code",
   "execution_count": 14,
   "id": "e9329352-6633-4178-862e-be79c557514f",
   "metadata": {},
   "outputs": [
    {
     "name": "stdout",
     "output_type": "stream",
     "text": [
      "Division is done successfully\n",
      "This will get executed no matter what is the outcome\n",
      "5.0\n",
      "Can't divide a number by zero\n",
      "This will get executed no matter what is the outcome\n",
      "None\n"
     ]
    }
   ],
   "source": [
    "def di(x,y):\n",
    "    try:\n",
    "        result =  x/y\n",
    "    except:\n",
    "        print(\"Can't divide a number by zero\")\n",
    "    else:\n",
    "        print(\"Division is done successfully\")\n",
    "        return result\n",
    "    finally:\n",
    "        print(\"This will get executed no matter what is the outcome\")\n",
    "print(di(10,2))\n",
    "print(di(10,0))"
   ]
  },
  {
   "cell_type": "code",
   "execution_count": 24,
   "id": "245dafcf-707d-4b02-b098-53863071f73e",
   "metadata": {},
   "outputs": [
    {
     "name": "stdout",
     "output_type": "stream",
     "text": [
      "Valid age.\n",
      "No exception raised.\n",
      "Age cannot be negative.\n"
     ]
    }
   ],
   "source": [
    "def check_age(age):\n",
    "    try:\n",
    "        if age < 0:\n",
    "            raise ValueError(\"Age cannot be negative.\")\n",
    "        else:\n",
    "            print(\"Valid age.\")\n",
    "    except ValueError as ve:\n",
    "        print(ve)\n",
    "    else:\n",
    "        print(\"No exception raised.\")\n",
    "        \n",
    "check_age(13)\n",
    "check_age(-12)"
   ]
  },
  {
   "cell_type": "code",
   "execution_count": 17,
   "id": "95dca496-83dd-4221-a1d5-18d6265a3377",
   "metadata": {},
   "outputs": [],
   "source": [
    "s5 =''' What are Custom Exceptions in python? Why do we need Custom Ex,eptions? Explain with an example'''"
   ]
  },
  {
   "cell_type": "code",
   "execution_count": 18,
   "id": "87fb493a-12d9-4e47-a893-2f1149b45b37",
   "metadata": {},
   "outputs": [],
   "source": [
    "ans5 = ''' Custom exceptions in python are done when we have to deal with some specific things which are not wrong\n",
    "for a machine but is wrong in real life for example entering you age as negative that is not possible but still the\n",
    "machine will allow you to enter negative age thus we need custom exceptions to deal with such things'''"
   ]
  },
  {
   "cell_type": "code",
   "execution_count": 19,
   "id": "a166c0c2-62dc-4a54-80e3-7dd455866fa0",
   "metadata": {},
   "outputs": [
    {
     "name": "stdin",
     "output_type": "stream",
     "text": [
      "enter your age -12\n"
     ]
    },
    {
     "name": "stdout",
     "output_type": "stream",
     "text": [
      "entered age is negative \n"
     ]
    }
   ],
   "source": [
    "class validateage(Exception):\n",
    "    \n",
    "    def __init__(self , msg) : \n",
    "        self.msg = msg\n",
    "      \n",
    "    \n",
    "def validaetage(age) : \n",
    "    if age < 0 :\n",
    "        raise validateage(\"entered age is negative \" )\n",
    "    elif age > 200 : \n",
    "        raise validateage(\"enterd age is very very high \" )\n",
    "    else :\n",
    "        print(\"age is valid\" )\n",
    "        \n",
    "try :\n",
    "    age = int(input(\"enter your age\" ))\n",
    "    validaetage(age)\n",
    "except validateage as e :\n",
    "    print(e)"
   ]
  },
  {
   "cell_type": "code",
   "execution_count": 21,
   "id": "984ac518-fa01-4882-a18e-a7f39c395507",
   "metadata": {},
   "outputs": [],
   "source": [
    "s6  =   ''' Create custom exception class. Use this class to handle an exception. '''"
   ]
  },
  {
   "cell_type": "code",
   "execution_count": 23,
   "id": "b25e21ab-ae55-4fef-8be5-1e54e2630270",
   "metadata": {},
   "outputs": [
    {
     "name": "stdin",
     "output_type": "stream",
     "text": [
      "enter your age 121\n"
     ]
    },
    {
     "name": "stdout",
     "output_type": "stream",
     "text": [
      "enterd age is very very high \n"
     ]
    }
   ],
   "source": [
    "class validateage(Exception):\n",
    "    \n",
    "    def __init__(self , msg) : \n",
    "        self.msg = msg\n",
    "      \n",
    "    \n",
    "def validaetage(age) : \n",
    "    if age < 0 :\n",
    "        raise validateage(\"entered age is negative \" )\n",
    "    elif age > 100 : \n",
    "        raise validateage(\"enterd age is very very high \" )\n",
    "    else :\n",
    "        print(\"age is valid\" )\n",
    "        \n",
    "try :\n",
    "    age = int(input(\"enter your age\" ))\n",
    "    validaetage(age)\n",
    "except validateage as e :\n",
    "    print(e)"
   ]
  },
  {
   "cell_type": "code",
   "execution_count": null,
   "id": "a205d895-5ec0-4e2f-a753-102506c50d76",
   "metadata": {},
   "outputs": [],
   "source": []
  }
 ],
 "metadata": {
  "kernelspec": {
   "display_name": "Python 3 (ipykernel)",
   "language": "python",
   "name": "python3"
  },
  "language_info": {
   "codemirror_mode": {
    "name": "ipython",
    "version": 3
   },
   "file_extension": ".py",
   "mimetype": "text/x-python",
   "name": "python",
   "nbconvert_exporter": "python",
   "pygments_lexer": "ipython3",
   "version": "3.10.8"
  }
 },
 "nbformat": 4,
 "nbformat_minor": 5
}
