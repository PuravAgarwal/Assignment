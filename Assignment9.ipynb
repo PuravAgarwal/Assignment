{
 "cells": [
  {
   "cell_type": "code",
   "execution_count": 1,
   "id": "deaaf3fa-23bb-4d99-b794-bbfb24f17b2b",
   "metadata": {},
   "outputs": [],
   "source": [
    "s1 = '''Q1. What is Abstraction in OOps? Explain with an example.'''\n"
   ]
  },
  {
   "cell_type": "code",
   "execution_count": 2,
   "id": "871c652e-aef7-4f17-8eac-6d2e97f82210",
   "metadata": {},
   "outputs": [],
   "source": [
    "a1= '''Objects are the building blocks of Object-Oriented Programming. An object contains \n",
    "some properties and methods. We can hide them from the outer world through access modifiers.\n",
    "We can provide access only for required functions and properties to the other programs. \n",
    "This is the general procedure to implement abstraction in OOPS.\n",
    "\n",
    "\n",
    "Data abstraction doesn't involve us in the complexity of the program and only shows us the\n",
    "required or necessary informations. Ex:- switch board it only shows us the switchs for the bulb\n",
    "fan etc it doesnt involve us in the complexity of the circuit i.e. the wires, connections'''"
   ]
  },
  {
   "cell_type": "code",
   "execution_count": 3,
   "id": "77c2555d-e658-4216-af7f-e3dd22a6dd0b",
   "metadata": {},
   "outputs": [],
   "source": [
    "s2 = '''Q2. Differentiate between Abstraction and Encapsulation. Explain with an example.'''"
   ]
  },
  {
   "cell_type": "code",
   "execution_count": 4,
   "id": "8f4ca06c-9903-495e-a744-2d0bdb2c57e3",
   "metadata": {},
   "outputs": [],
   "source": [
    "a2= '''Encapsulation is the packing of \"data\" and \"functions operating on that data\" into a single component and restricting the \n",
    "access to some of the object's components. Encapsulation means that the internal representation of an object is generally hidden \n",
    "from view outside of the object's definition.\n",
    "\n",
    "Abstraction is a mechanism which represent the essential features without including implementation details.\n",
    "\n",
    "Encapsulation:-- Information hiding.\n",
    "Abstraction:-- Implementation hiding.\n",
    "\n",
    "Example:- In a bank we cannot see how our money is stored, deposited, withdraw, etc but we can see through a software how much\n",
    "balance is left, how much we can withdraw and if we deposited our money\n",
    "\n",
    "Encapsulation is the way the bank is hiding the money stored, deposited, internal details, etc it can only be accessed by bank \n",
    "employees\n",
    "\n",
    "Data Abstraction is the way by which we can see how much balance is left in bank, how much we can withdraw,etc it shows us the \n",
    "details without showing the complexity of the bank software\n",
    "\n",
    "\n",
    "'''"
   ]
  },
  {
   "cell_type": "code",
   "execution_count": 5,
   "id": "f50300c0-7d62-4107-b10d-4ea6528b90a4",
   "metadata": {},
   "outputs": [],
   "source": [
    "s3= '''Q3. What is abc module in python? Why is it used?'''"
   ]
  },
  {
   "cell_type": "code",
   "execution_count": 6,
   "id": "3872e62f-f417-463a-8ec5-5e0142cfbe1b",
   "metadata": {},
   "outputs": [],
   "source": [
    "a3 = ''' The 'ABC' of Abstract Base Classes\n",
    "Abstract classes are classes that contain one or more abstract methods. An abstract method is a method that is declared, \n",
    "but contains no implementation. Abstract classes cannot be instantiated, and require subclasses to provide implementations\n",
    "for the abstract methods.\n",
    "\n",
    "It is generally used in very large projects in which multiple people are working so that the only the data are different\n",
    "but the structure is the same.'''"
   ]
  },
  {
   "cell_type": "code",
   "execution_count": 7,
   "id": "8f907e87-abac-4631-9813-34522492e462",
   "metadata": {},
   "outputs": [],
   "source": [
    "s4= '''Q4. How can we achieve data abstraction?'''"
   ]
  },
  {
   "cell_type": "code",
   "execution_count": 8,
   "id": "4808b620-aef5-4628-92eb-95f11768fd4d",
   "metadata": {},
   "outputs": [],
   "source": [
    "a4 = '''Abstraction in OOP can be achieved by using the abstract keyword for classes and interfaces, as well as abstract classes\n",
    "which can have abstract methods as well as concrete methods. '''\n",
    "\n",
    "import abc\n",
    "class purav:\n",
    "    \n",
    "    @abc.abstractmethod\n",
    "    def details(self):\n",
    "        pass\n",
    "    \n",
    "    @abc.abstractmethod\n",
    "    def marks(self):\n",
    "        pass"
   ]
  },
  {
   "cell_type": "code",
   "execution_count": 9,
   "id": "5646a7da-bb88-4fef-8b8f-011cd01eed4d",
   "metadata": {},
   "outputs": [],
   "source": [
    "s5 = '''Can we create an instance of an abstract class? Explain your answer.'''"
   ]
  },
  {
   "cell_type": "code",
   "execution_count": 10,
   "id": "aaa936ee-b03f-4d5c-92a6-47acdfebe524",
   "metadata": {},
   "outputs": [],
   "source": [
    "a5 = '''No we can’t, instead we can create instance of all other classes extending that abstract\n",
    "class because it's abstract and an object is concrete. An abstract class is sort of like a\n",
    "template, or an empty/partially empty structure, we have to extend it and build on it before we\n",
    "can use it but an abstract class has a protected constructor (by default) and we can declare our\n",
    "own constructor also allowing derived types (i.e classes) to initialize it member variables so\n",
    "that those (member variables) would be accessible to their derived types through inheritance. We \n",
    "can’t create instance directly using new keyword, but we can call its constructor not to create\n",
    "its instance but to provide initialization to its member variables such that those variables can\n",
    "be accessible and used in its derived classes'''"
   ]
  },
  {
   "cell_type": "code",
   "execution_count": null,
   "id": "e229eb1e-91b6-483b-8834-8bdee4800c30",
   "metadata": {},
   "outputs": [],
   "source": []
  }
 ],
 "metadata": {
  "kernelspec": {
   "display_name": "Python 3 (ipykernel)",
   "language": "python",
   "name": "python3"
  },
  "language_info": {
   "codemirror_mode": {
    "name": "ipython",
    "version": 3
   },
   "file_extension": ".py",
   "mimetype": "text/x-python",
   "name": "python",
   "nbconvert_exporter": "python",
   "pygments_lexer": "ipython3",
   "version": "3.10.8"
  }
 },
 "nbformat": 4,
 "nbformat_minor": 5
}
