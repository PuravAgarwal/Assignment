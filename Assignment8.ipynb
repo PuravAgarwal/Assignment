{
 "cells": [
  {
   "cell_type": "code",
   "execution_count": 1,
   "id": "e7639991-f6ca-48f9-a34e-114b60a46b4a",
   "metadata": {},
   "outputs": [],
   "source": [
    "s1= '''You are writing code for a company. The requirement of the company is that you create a python\n",
    "function that will check whether the password entered by the user is correct or not. The function should\n",
    "take the password as input and return the string “Valid Password” if the entered password follows the\n",
    "below-given password guidelines else it should return “Invalid Password”.\n",
    "\n",
    "Note: 1. The Password should contain at least two uppercase letters and at least two lowercase letters.\n",
    "2. The Password should contain at least a number and three special characters.\n",
    "3. The length of the password should be 10 characters long.\n",
    "'''"
   ]
  },
  {
   "cell_type": "code",
   "execution_count": 3,
   "id": "c5e3c1c2-c217-42ba-9891-0f378645cf53",
   "metadata": {},
   "outputs": [
    {
     "name": "stdin",
     "output_type": "stream",
     "text": [
      "Enter the password PUrav@@@12\n"
     ]
    },
    {
     "data": {
      "text/plain": [
       "'Valid Password'"
      ]
     },
     "execution_count": 3,
     "metadata": {},
     "output_type": "execute_result"
    }
   ],
   "source": [
    "def check(p):\n",
    "    l= len(p)\n",
    "    U,L,N,S=0,0,0,0\n",
    "    for x in p:\n",
    "        if x.isupper():\n",
    "            U=U+1\n",
    "        elif x.islower():\n",
    "            L+=1\n",
    "        elif x.isdigit():\n",
    "            N+=1\n",
    "        else:\n",
    "            S+=1\n",
    "    if l==10 and U>=2 and L>=2 and S>= 3 and N>=1:\n",
    "        return \"Valid Password\"\n",
    "    else:\n",
    "        return \"Invalid Password\"\n",
    "\n",
    "pas= input(\"Enter the password\")\n",
    "check(pas)\n",
    "        "
   ]
  },
  {
   "cell_type": "code",
   "execution_count": 17,
   "id": "e390b693-4946-457b-bb01-9c4f7c0e732e",
   "metadata": {},
   "outputs": [],
   "source": [
    "s2= '''Q2. Solve the below-given questions using at least one of the following:\n",
    "1. Lambda function\n",
    "2. Filter function\n",
    "3. Map function\n",
    "4. List Comprehension\n",
    "Check if the string starts with a particular letter\n",
    "Check if the string is numeric\n",
    "Sort a list of tuples having fruit names and their quantity. [(\"mango\",99),(\"orange\",80), (\"grapes\", 1000)-\n",
    "Find the squares of numbers from 1 to 10\n",
    "Find the cube root of numbers from 1 to 10\n",
    "Check if a given number is even\n",
    "Filter odd numbers from the given list.\n",
    "[1,2,3,4,5,6,7,8,9,10]\n",
    "Sort a list of integers into positive and negative integers lists.\n",
    "[1,2,3,4,5,6,-1,-2,-3,-4,-5,0]'''"
   ]
  },
  {
   "cell_type": "code",
   "execution_count": 8,
   "id": "f08fd6f2-d56f-4d83-9b90-30193f1711da",
   "metadata": {},
   "outputs": [
    {
     "name": "stdin",
     "output_type": "stream",
     "text": [
      "Enter the character P\n",
      "Enter the password PAss\n"
     ]
    },
    {
     "name": "stdout",
     "output_type": "stream",
     "text": [
      "yes\n"
     ]
    }
   ],
   "source": [
    "p= input(\"Enter the character\")\n",
    "pss= input(\"Enter the password\")\n",
    "a1= lambda x: \"yes\" if pss[0]== x[0] else \"no\"\n",
    "print(a1(p))"
   ]
  },
  {
   "cell_type": "code",
   "execution_count": 11,
   "id": "97eff74b-5f83-4a87-bae7-dc6f0f8fbf5b",
   "metadata": {},
   "outputs": [
    {
     "name": "stdin",
     "output_type": "stream",
     "text": [
      "Enter a string 59834\n"
     ]
    },
    {
     "name": "stdout",
     "output_type": "stream",
     "text": [
      "True\n"
     ]
    }
   ],
   "source": [
    "a2= input(\"Enter a string\")\n",
    "a= (lambda x : x.isdigit())\n",
    "print(a(a2))"
   ]
  },
  {
   "cell_type": "code",
   "execution_count": 13,
   "id": "0d9e87a1-e8f9-48ea-9e39-6c130bb75741",
   "metadata": {},
   "outputs": [
    {
     "name": "stdout",
     "output_type": "stream",
     "text": [
      "[('grapes', 1000), ('mango', 99), ('orange', 80)]\n"
     ]
    }
   ],
   "source": [
    "l =  [(\"mango\",99),(\"orange\",80), (\"grapes\", 1000)]\n",
    "a = sorted(l, key=lambda x: x[1], reverse=True)\n",
    "print(a)"
   ]
  },
  {
   "cell_type": "code",
   "execution_count": 14,
   "id": "2adb7181-ad53-44c8-87b5-ada4c7f04643",
   "metadata": {},
   "outputs": [
    {
     "data": {
      "text/plain": [
       "[1, 4, 9, 16, 25, 36, 49, 64, 81, 100]"
      ]
     },
     "execution_count": 14,
     "metadata": {},
     "output_type": "execute_result"
    }
   ],
   "source": [
    "[x**2 for x in range (1,11)]"
   ]
  },
  {
   "cell_type": "code",
   "execution_count": 16,
   "id": "3b69ff8d-d733-457b-b53c-58b674cd3c30",
   "metadata": {},
   "outputs": [
    {
     "data": {
      "text/plain": [
       "[1.0,\n",
       " 1.2599210498948732,\n",
       " 1.4422495703074083,\n",
       " 1.5874010519681994,\n",
       " 1.7099759466766968,\n",
       " 1.8171205928321397,\n",
       " 1.912931182772389,\n",
       " 2.0,\n",
       " 2.080083823051904,\n",
       " 2.154434690031884]"
      ]
     },
     "execution_count": 16,
     "metadata": {},
     "output_type": "execute_result"
    }
   ],
   "source": [
    "list(map( lambda x:x**(1/3) , [x for x in range (1,11)]))"
   ]
  },
  {
   "cell_type": "code",
   "execution_count": 1,
   "id": "312d18f6-4a29-4d99-a497-d7a5631c66e2",
   "metadata": {},
   "outputs": [
    {
     "name": "stdin",
     "output_type": "stream",
     "text": [
      "Enter a number 232\n"
     ]
    },
    {
     "name": "stdout",
     "output_type": "stream",
     "text": [
      "even\n"
     ]
    }
   ],
   "source": [
    "a= int(input(\"Enter a number\"))\n",
    "a1= lambda x: \"even\" if x%2==0 else \"odd\" \n",
    "print(a1(a))"
   ]
  },
  {
   "cell_type": "code",
   "execution_count": 2,
   "id": "3dd8da1a-8051-4fcf-a9f5-fd416ecf8e8f",
   "metadata": {},
   "outputs": [
    {
     "data": {
      "text/plain": [
       "[1, 3, 5, 7, 9]"
      ]
     },
     "execution_count": 2,
     "metadata": {},
     "output_type": "execute_result"
    }
   ],
   "source": [
    "l= [1,2,3,4,5,6,7,8,9,10]\n",
    "list( filter( lambda x: x%2!=0 , l))"
   ]
  },
  {
   "cell_type": "code",
   "execution_count": 9,
   "id": "fd52c7a7-9f21-41b8-be3c-7f23bf80ae8d",
   "metadata": {},
   "outputs": [
    {
     "name": "stdout",
     "output_type": "stream",
     "text": [
      "[1, 2, 3, 4, 5, 6]\n",
      "[-1, -2, -3, -4, -5]\n"
     ]
    }
   ],
   "source": [
    "l= [1,2,3,4,5,6,-1,-2,-3,-4,-5,0]\n",
    "a= list(filter( lambda x : x>0, l))\n",
    "b= list(filter( lambda x : x<0, l))\n",
    "print(a)\n",
    "print(b)"
   ]
  }
 ],
 "metadata": {
  "kernelspec": {
   "display_name": "Python 3 (ipykernel)",
   "language": "python",
   "name": "python3"
  },
  "language_info": {
   "codemirror_mode": {
    "name": "ipython",
    "version": 3
   },
   "file_extension": ".py",
   "mimetype": "text/x-python",
   "name": "python",
   "nbconvert_exporter": "python",
   "pygments_lexer": "ipython3",
   "version": "3.10.8"
  }
 },
 "nbformat": 4,
 "nbformat_minor": 5
}
