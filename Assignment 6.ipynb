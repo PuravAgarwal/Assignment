{
 "cells": [
  {
   "cell_type": "code",
   "execution_count": 2,
   "id": "7a5ea7d4-4770-444f-a53d-132422f769f9",
   "metadata": {},
   "outputs": [],
   "source": [
    "s1='''Q1. Explain Class and Object with respect to Object-Oriented Programming. \n",
    "Give a suitable example.'''"
   ]
  },
  {
   "cell_type": "code",
   "execution_count": 2,
   "id": "89e8e6f9-4fe7-44b8-add1-02a7418d2ea7",
   "metadata": {},
   "outputs": [
    {
     "name": "stdout",
     "output_type": "stream",
     "text": [
      "Namaste Duniya\n"
     ]
    }
   ],
   "source": [
    "a1 = ''' Class is just like a blueprint it gives us the basic idea about the information it\n",
    "contains. Class has no specific size and is a object factory as we can create any number of \n",
    "objects we wish to create\n",
    "\n",
    "An object is a fundamental building block of an object-oriented language. Integers, strings,\n",
    "floating point numbers, even arrays and dictionaries, are all objects. More specifically, any \n",
    "single integer or any single string is an object. The number 12 is an object, the string \n",
    "\"hello, world\" is an object, a list is an object that can hold other objects, and so on. \n",
    "You've been using objects all along and may not even realize it.\n",
    "'''\n",
    "\n",
    "class purav:\n",
    "    def hello (self ):\n",
    "        print(\"Namaste Duniya\")\n",
    "\n",
    "a= purav()\n",
    "a.hello()\n",
    "\n",
    "a1_1 =  ''' here purav is a class and a is an object of the class '''"
   ]
  },
  {
   "cell_type": "code",
   "execution_count": 3,
   "id": "5fb7191b-21a9-4bf5-870f-506e901f41b9",
   "metadata": {},
   "outputs": [],
   "source": [
    "s2= '''Name the four pillars of OOPs.'''\n",
    "a2 = ''' Encapsulation \n",
    "        Data Abstraction\n",
    "        Polymorphism\n",
    "        Inheritance '''"
   ]
  },
  {
   "cell_type": "code",
   "execution_count": 4,
   "id": "e75325bc-ac4d-4102-9830-c919854e3afe",
   "metadata": {},
   "outputs": [],
   "source": [
    "s3 = '''Explain why the __init__() function is used. Give a suitable example.'''"
   ]
  },
  {
   "cell_type": "code",
   "execution_count": 5,
   "id": "0e111ee9-1f2e-41a7-855a-00cd2b50a3a4",
   "metadata": {},
   "outputs": [
    {
     "data": {
      "text/plain": [
       "(832442349, 'puravag@gmail.com', 101)"
      ]
     },
     "execution_count": 5,
     "metadata": {},
     "output_type": "execute_result"
    }
   ],
   "source": [
    "a3 = ''' __init__() function is used to assign values to object properties, or other operations\n",
    "that are necessary to do when the object is being created.  It is always executed when a class is\n",
    "initiated ''' \n",
    "\n",
    "class test:\n",
    "    def __init__( self, phone, email, sid):\n",
    "        self.phone = phone\n",
    "        self.email = email\n",
    "        self.sid = sid\n",
    "    \n",
    "    def return_details( self):\n",
    "        return self.phone , self.email , self.sid\n",
    "    \n",
    "    def welcome_msg(self):\n",
    "        print(\"welcome to pwskills\")\n",
    "        \n",
    "\n",
    "purav = test( 832442349, 'puravag@gmail.com' , 101 )\n",
    "\n",
    "purav.return_details()"
   ]
  },
  {
   "cell_type": "code",
   "execution_count": 6,
   "id": "3ae77837-0e57-4790-93d3-14cd96fe1d22",
   "metadata": {},
   "outputs": [],
   "source": [
    "s4 = '''Why self is used in OOPs?'''"
   ]
  },
  {
   "cell_type": "code",
   "execution_count": 7,
   "id": "86753bbf-978a-48d9-bdd4-12bb2bcbf44a",
   "metadata": {},
   "outputs": [],
   "source": [
    "a4 = '''self represents the instance of the class. By using the “self”  we can access the \n",
    "attributes and methods of the class in python. It binds the attributes with the given arguments.\n",
    "\n",
    "The reason you need to use self. is because Python does not use the @ syntax to refer to \n",
    "instance attributes. Python decided to do methods in a way that makes the instance to which\n",
    "the method belongs be passed automatically, but not received automatically: the first parameter \n",
    "of methods is the instance the method is called on.'''"
   ]
  },
  {
   "cell_type": "code",
   "execution_count": 8,
   "id": "6ff83b93-dd73-4a69-925b-c1f09bff1d42",
   "metadata": {},
   "outputs": [],
   "source": [
    "s5 = ''' What is inheritance? Give an example for each type of inheritance.'''"
   ]
  },
  {
   "cell_type": "code",
   "execution_count": 10,
   "id": "5a40ba21-8fa8-4413-96aa-403054866976",
   "metadata": {},
   "outputs": [],
   "source": [
    "a5 ='''One of the core concepts in object-oriented programming (OOP) languages is inheritance. \n",
    "It is a mechanism that allows you to create a hierarchy of classes that share a set of properties\n",
    "and methods by deriving a class from another class. Inheritance is the capability of one class \n",
    "to derive or inherit the properties from another class.\n",
    "\n",
    "There are 5 types of inheritance:-\n",
    "\n",
    "Single Inheritance:- When Class B derives all the properties from Class A it is known as \n",
    "                     Single Inheritance\n",
    "                     \n",
    "Multiple Inheritance:- When a class C can be derived from more than one base class (A,B,D,....)  this type of \n",
    "                       inheritance is called multiple inheritances. \n",
    "                       \n",
    "Multilevel Inheritance:- When Class C is derived from Class B which is derived from Class A which is the original\n",
    "                         base class. Hence when a derived class is derived from anothter derived class creating a\n",
    "                         son, father, grandfather, great grandfather, .... situtation it is known as Multilevel Inheritance\n",
    "                         \n",
    "Hierarchical Inheritance:-When more than one derived class is created from a single base class is known as Hierarchial\n",
    "                          Inheritance. Ex- A man with 3 children \n",
    "                         \n",
    "Hybrid Inheritance:- Inheritance consisting of multiple types of inheritance is called hybrid inheritance\n",
    "'''\n",
    "\n"
   ]
  },
  {
   "cell_type": "code",
   "execution_count": null,
   "id": "0f56f870-bd1d-40e8-9114-47a86c2592e6",
   "metadata": {},
   "outputs": [],
   "source": []
  }
 ],
 "metadata": {
  "kernelspec": {
   "display_name": "Python 3 (ipykernel)",
   "language": "python",
   "name": "python3"
  },
  "language_info": {
   "codemirror_mode": {
    "name": "ipython",
    "version": 3
   },
   "file_extension": ".py",
   "mimetype": "text/x-python",
   "name": "python",
   "nbconvert_exporter": "python",
   "pygments_lexer": "ipython3",
   "version": "3.10.8"
  }
 },
 "nbformat": 4,
 "nbformat_minor": 5
}
