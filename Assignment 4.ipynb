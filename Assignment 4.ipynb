{
 "cells": [
  {
   "cell_type": "code",
   "execution_count": 1,
   "id": "7396ad06-6449-417e-8233-080c26492415",
   "metadata": {},
   "outputs": [],
   "source": [
    "s1= '''Which keyword is used to create a function? Create a function to \n",
    "return a list of odd numbers in therange of 1 to 25.'''"
   ]
  },
  {
   "cell_type": "code",
   "execution_count": 2,
   "id": "77d29a6e-6136-41b9-b7c8-3e593f45ccc4",
   "metadata": {},
   "outputs": [],
   "source": [
    "A1= ''' def keyword is used to create a function '''"
   ]
  },
  {
   "cell_type": "code",
   "execution_count": 5,
   "id": "60d409da-a904-45c3-893a-d23057358064",
   "metadata": {},
   "outputs": [
    {
     "data": {
      "text/plain": [
       "[1, 3, 5, 7, 9, 11, 13, 15, 17, 19, 21, 23, 25]"
      ]
     },
     "execution_count": 5,
     "metadata": {},
     "output_type": "execute_result"
    }
   ],
   "source": [
    "def odd():\n",
    "    l1=[]\n",
    "    for x in range ( 1,26,2):\n",
    "        l1.append(x)\n",
    "    return l1\n",
    "odd()"
   ]
  },
  {
   "cell_type": "code",
   "execution_count": 6,
   "id": "3088774b-a33f-488a-a331-300b73e5fc89",
   "metadata": {},
   "outputs": [],
   "source": [
    "s2=''' Why *args and **kwargs is used in some functions? Create a function each for \n",
    "*args and **kwargs to demonstrate their use.'''\n"
   ]
  },
  {
   "cell_type": "code",
   "execution_count": 14,
   "id": "37a485a8-0066-49a0-bcd3-f5a1f40b4ed8",
   "metadata": {},
   "outputs": [],
   "source": [
    "a2= ''' *args is used when we don't know how many values the user is going to enter\n",
    "so as a precaution we use *args as it can contain as many values the user enters, it stores \n",
    "the value in form of a tuple\n",
    "\n",
    "def test(*args):\n",
    "    return args \n",
    "\n",
    "test(1,34,3,52,5,23,4,325)\n",
    "\n",
    "output:-\n",
    "(1,34,3,52,5,23,4,325)\n",
    "\n",
    "**kwargs is same as *args it can take as many value the user enters the only difference \n",
    "is that it stores the value in form of key value pair i.e. dictionary. \n",
    "\n",
    "def test (**kwargs):\n",
    "    return (kwargs)\n",
    "\n",
    "test( a= 9 , b= \"purav\" , c=10)\n",
    "Output:-\n",
    "{ a: 9, b: \"purav\" , c: 9}\n",
    "'''"
   ]
  },
  {
   "cell_type": "code",
   "execution_count": 8,
   "id": "0c0f54b7-1709-4873-a07d-5f521180bff7",
   "metadata": {},
   "outputs": [],
   "source": [
    "s3= '''What is an iterator in python? Name the method used to initialise the iterator object \n",
    "and the method used for iteration. Use these methods to print the first five elements of the \n",
    "given list [2, 4, 6, 8, 10, 12, 14, 16, 18, 20].'''\n"
   ]
  },
  {
   "cell_type": "code",
   "execution_count": 13,
   "id": "fe5d88f6-54d2-4f13-893b-139c789db0d5",
   "metadata": {},
   "outputs": [],
   "source": [
    "a3= '''Iterator in Python is an object that is used to iterate over iterable objects \n",
    "like lists, tuples, dicts, and sets. The iterator object is initialized using the iter()\n",
    "method. It uses the next() method for iteration.\n",
    "'''\n",
    "\n"
   ]
  },
  {
   "cell_type": "code",
   "execution_count": 12,
   "id": "67bff80f-9fa2-4972-b262-2bc726b5f93e",
   "metadata": {},
   "outputs": [
    {
     "name": "stdout",
     "output_type": "stream",
     "text": [
      "2\n",
      "4\n",
      "6\n",
      "8\n",
      "10\n"
     ]
    }
   ],
   "source": [
    "l = [2, 4, 6, 8, 10, 12, 14, 16, 18, 20]\n",
    "a = iter(l)\n",
    "for x in range (5):\n",
    "    print(next(a))"
   ]
  },
  {
   "cell_type": "code",
   "execution_count": 12,
   "id": "5a277228-29c9-484c-b538-71db083a572c",
   "metadata": {},
   "outputs": [
    {
     "name": "stdout",
     "output_type": "stream",
     "text": [
      "0\n",
      "1\n",
      "1\n",
      "2\n",
      "3\n",
      "5\n",
      "8\n",
      "13\n",
      "21\n",
      "34\n"
     ]
    }
   ],
   "source": [
    "s6 = '''Write a python program to print the first 10 Fibonacci numbers using a while loop.'''\n",
    "a,b=0,1\n",
    "ctr=1\n",
    "while( ctr<=10):\n",
    "    print(a)\n",
    "    c=a+b\n",
    "    a=b\n",
    "    b=c\n",
    "    ctr=ctr+1"
   ]
  },
  {
   "cell_type": "code",
   "execution_count": 13,
   "id": "42038651-773a-4db9-beb9-0ceb7c9fdf98",
   "metadata": {},
   "outputs": [
    {
     "data": {
      "text/plain": [
       "['p', 'w', 's', 'k', 'i', 'l', 'l', 's']"
      ]
     },
     "execution_count": 13,
     "metadata": {},
     "output_type": "execute_result"
    }
   ],
   "source": [
    "s7 = '''Write a List Comprehension to iterate through the given string: ‘pwskills’.\n",
    "Expected output: ['p', 'w', 's', 'k', 'i', 'l', 'l', 's'] ''' \n",
    "\n",
    "\n",
    "s= 'pwskills'\n",
    "[x for x in s ]"
   ]
  },
  {
   "cell_type": "code",
   "execution_count": 5,
   "id": "f7f97f15-338f-4b6d-a0fa-39a655c415cf",
   "metadata": {},
   "outputs": [
    {
     "name": "stdin",
     "output_type": "stream",
     "text": [
      "Enter a number 121\n"
     ]
    },
    {
     "name": "stdout",
     "output_type": "stream",
     "text": [
      "Palindrome\n"
     ]
    }
   ],
   "source": [
    "s8 = '''Write a python program to check whether a given number is Palindrome or not using a while loop. '''\n",
    "a = int( input (\"Enter a number\"))\n",
    "n=a\n",
    "r=0\n",
    "while (n>0):\n",
    "    d= n%10\n",
    "    r=r *10 +d\n",
    "    n=n//10\n",
    "if r==a:\n",
    "    print(\"Palindrome\")\n",
    "else:\n",
    "    print(\"Not Palindrome\")\n",
    "    \n",
    "orr = ''' We can also do\n",
    "a = int( input (\"Enter a number\"))\n",
    "s= str(a)\n",
    "if s[::-1] == s:\n",
    "    print(\"Palindrome\")\n",
    "else:\n",
    "    print(\"Not Palindrome\")'''"
   ]
  },
  {
   "cell_type": "code",
   "execution_count": 16,
   "id": "13af4d9d-98f1-4113-a5e8-bd11a0deac49",
   "metadata": {},
   "outputs": [
    {
     "name": "stdout",
     "output_type": "stream",
     "text": [
      "[1, 3, 5, 7, 9, 11, 13, 15, 17, 19, 21, 23, 25, 27, 29, 31, 33, 35, 37, 39, 41, 43, 45, 47, 49, 51, 53, 55, 57, 59, 61, 63, 65, 67, 69, 71, 73, 75, 77, 79, 81, 83, 85, 87, 89, 91, 93, 95, 97, 99]\n"
     ]
    }
   ],
   "source": [
    "s9 = ''' Write a code to print odd numbers from 1 to 100 using list comprehension.\n",
    "Note: Use a list comprehension to create a list from 1 to 100 and use another List\n",
    "comprehension to filter out odd numbers.'''\n",
    "\n",
    "l= [x for x in range (1,101,1)]\n",
    "l2 =[x for x in l if x%2!=0 ]\n",
    "print(l2)"
   ]
  },
  {
   "cell_type": "code",
   "execution_count": 1,
   "id": "b13c9f81-4dba-4cac-84e3-0e7fce644a9b",
   "metadata": {},
   "outputs": [
    {
     "name": "stdout",
     "output_type": "stream",
     "text": [
      "0\n",
      "2\n",
      "4\n",
      "6\n",
      "8\n"
     ]
    }
   ],
   "source": [
    "s4 = ''' What is a generator function in python? Why yield keyword is used? Give an\n",
    "example of a generator function. \n",
    "\n",
    "Generatoe function in python is similar to any other normal function but it uses yield\n",
    "instead of return. It is very helpful when handeling very large data as it occupy very \n",
    "less memory. It returns the value one by one whereas return gives all the value \n",
    "at a time. Generator functions have 2 keywords with them i.e. next() and iter(). \n",
    "\n",
    "Ex- '''\n",
    "\n",
    "def f1():\n",
    "    c=0\n",
    "    while True:\n",
    "        if c%2==0:\n",
    "            yield(c)\n",
    "        c=c+1\n",
    "a= f1()\n",
    "for x in range (5):\n",
    "    print(next(a))"
   ]
  },
  {
   "cell_type": "code",
   "execution_count": 5,
   "id": "404d7aef-0d82-4f5f-b025-d4a7ce1ab015",
   "metadata": {},
   "outputs": [
    {
     "name": "stdout",
     "output_type": "stream",
     "text": [
      "2\n",
      "3\n",
      "5\n",
      "7\n",
      "11\n",
      "13\n",
      "17\n",
      "19\n",
      "23\n",
      "29\n",
      "31\n",
      "37\n",
      "41\n",
      "43\n",
      "47\n",
      "53\n",
      "59\n",
      "61\n",
      "67\n",
      "71\n"
     ]
    }
   ],
   "source": [
    "s5 = ''' Create a generator function for prime numbers less than 1000. Use the next()\n",
    "method to print the first 20 prime numbers.'''\n",
    "\n",
    "def prime():\n",
    "    c,ctr=2,1\n",
    "    while True:\n",
    "        k=2\n",
    "        d=(c//2 )+1\n",
    "        while ( k<d):\n",
    "            if c%k==0:\n",
    "                break\n",
    "            k=k+1\n",
    "        else:\n",
    "            yield (c)\n",
    "        c=c+1\n",
    "a = prime()\n",
    "for x in range(20):\n",
    "    print(next(a))"
   ]
  },
  {
   "cell_type": "code",
   "execution_count": null,
   "id": "69cb3a48-5d8e-424a-80a3-4fb9fc22ec1b",
   "metadata": {},
   "outputs": [],
   "source": []
  }
 ],
 "metadata": {
  "kernelspec": {
   "display_name": "Python 3 (ipykernel)",
   "language": "python",
   "name": "python3"
  },
  "language_info": {
   "codemirror_mode": {
    "name": "ipython",
    "version": 3
   },
   "file_extension": ".py",
   "mimetype": "text/x-python",
   "name": "python",
   "nbconvert_exporter": "python",
   "pygments_lexer": "ipython3",
   "version": "3.10.8"
  }
 },
 "nbformat": 4,
 "nbformat_minor": 5
}
