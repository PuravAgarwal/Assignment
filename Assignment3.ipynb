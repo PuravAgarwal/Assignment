{
 "cells": [
  {
   "cell_type": "code",
   "execution_count": 1,
   "id": "a4ae6875-809b-4493-bcee-01e583d95123",
   "metadata": {},
   "outputs": [],
   "source": [
    "s1= '''Explain with an example each when to use a for loop and a while loop.'''"
   ]
  },
  {
   "cell_type": "code",
   "execution_count": 2,
   "id": "be34106f-b968-459e-b82b-5f0d5fb14a00",
   "metadata": {},
   "outputs": [],
   "source": [
    "A1 = '''\n",
    "We use while loop when the number of iteration is not fixed i.e. when we don't know the \n",
    "number of times is loop is going to run. When we know the number of iterations we use for loop\n",
    "\n",
    "Ex:- \n",
    "\n",
    "a=int(input(\"Enter a number\"))\n",
    "c=0\n",
    "while(a>0):\n",
    "   a=a//10 \n",
    "   c=c+1\n",
    "print(\"The number contains\", c, \"digits\")\n",
    "\n",
    "For this question if we write in for loop it will be very difficult and complicated thus here \n",
    "while is more useful\n",
    "\n",
    "Ex:- \n",
    "\n",
    "a= int( input(\"Enter a number of terms to be printed\")\n",
    "for x in range( 0,a,1):\n",
    "    print(x)\n",
    "    \n",
    "For this question we know the number of iterations thus for loop is more useful as it is easier \n",
    "and less complicated for the user'''"
   ]
  },
  {
   "cell_type": "code",
   "execution_count": 3,
   "id": "b1b45606-9d51-45d2-84ab-2980734616b9",
   "metadata": {},
   "outputs": [],
   "source": [
    "s2= '''Write a python program to print the sum and product of the first 10 natural numbers \n",
    "using for and while loop.'''"
   ]
  },
  {
   "cell_type": "code",
   "execution_count": 4,
   "id": "d2b66c38-9ec2-497e-b6ed-290ac5639c60",
   "metadata": {},
   "outputs": [
    {
     "name": "stdout",
     "output_type": "stream",
     "text": [
      " Sum of first 10 natural numbers is : 55\n",
      " Product of first 10 natural numbers is : 3628800\n"
     ]
    }
   ],
   "source": [
    "s,p=0,1\n",
    "for x in range(1,11):\n",
    "    s=s+x\n",
    "    p=p*x\n",
    "print(\" Sum of first 10 natural numbers is :\" ,s)\n",
    "print(\" Product of first 10 natural numbers is :\" ,p)\n"
   ]
  },
  {
   "cell_type": "code",
   "execution_count": 5,
   "id": "7017661f-0031-4d98-b202-34aefa3ddfcb",
   "metadata": {},
   "outputs": [],
   "source": [
    "s3= '''Create a python program to compute the electricity bill for a household.\n",
    "The per-unit charges in rupees are as follows: For the first 100 units, the user will be charged \n",
    "Rs. 4.5 per unit, for the next 100 units, the user will be charged Rs. 6 per unit, and for \n",
    "the next 100 units, the user will be charged Rs. 10 per unit, After 300 units and above the \n",
    "user will be charged Rs. 20 per unit. You are required to take the units of electricity consumed \n",
    "in a month from the user as input. Your program must pass this test case: when the unit of\n",
    "electricity consumed by the user in a month is 310, the total electricity bill should be 2250.'''"
   ]
  },
  {
   "cell_type": "code",
   "execution_count": 6,
   "id": "a67dd3cd-a862-4fdc-b148-3a48eb6fd422",
   "metadata": {},
   "outputs": [
    {
     "name": "stdin",
     "output_type": "stream",
     "text": [
      "Enter the units of electricity consumed 310\n"
     ]
    },
    {
     "name": "stdout",
     "output_type": "stream",
     "text": [
      "The total electricity bill should be : 2250.0\n"
     ]
    }
   ],
   "source": [
    "units= int(input(\"Enter the units of electricity consumed\"))\n",
    "bill=0\n",
    "if units>0:\n",
    "    if units<=100:\n",
    "        bill=bill*4.5\n",
    "    elif units>100 and units<=200:\n",
    "        bill = 100*4.5 + (units-100)*6\n",
    "    elif units >200 and units<=300:\n",
    "        bill = 100*4.5 + 100*6 + (units-200)*10\n",
    "    else: \n",
    "         bill = 100*4.5 + 100*6 + 100*10 + (units-300)*20\n",
    "    print(\"The total electricity bill should be :\" , bill)\n",
    "else: \n",
    "    print(\"Enter valid number\")"
   ]
  },
  {
   "cell_type": "code",
   "execution_count": 7,
   "id": "c3711344-18af-447f-af71-9b61613d2fef",
   "metadata": {},
   "outputs": [],
   "source": [
    "s4= '''Create a list of numbers from 1 to 100. Use for loop and while loop to calculate the cube\n",
    "of each number and if the cube of that number is divisible by 4 or 5 then append that number in \n",
    "a list and print that list. '''\n"
   ]
  },
  {
   "cell_type": "code",
   "execution_count": 8,
   "id": "655babb2-f00e-4766-b000-cd5cc5fb4011",
   "metadata": {},
   "outputs": [
    {
     "name": "stdout",
     "output_type": "stream",
     "text": [
      "[2, 4, 5, 6, 8, 10, 12, 14, 15, 16, 18, 20, 22, 24, 25, 26, 28, 30, 32, 34, 35, 36, 38, 40, 42, 44, 45, 46, 48, 50, 52, 54, 55, 56, 58, 60, 62, 64, 65, 66, 68, 70, 72, 74, 75, 76, 78, 80, 82, 84, 85, 86, 88, 90, 92, 94, 95, 96, 98, 100]\n"
     ]
    }
   ],
   "source": [
    "l1,l2=[],[]\n",
    "x=1\n",
    "while(x<=100):\n",
    "    l1.append(x)\n",
    "    x=x+1\n",
    "for a in l1:\n",
    "    if ((a**3)%4==0 or (a**3)%5==0):\n",
    "        l2.append(a)\n",
    "print(l2)"
   ]
  },
  {
   "cell_type": "code",
   "execution_count": 9,
   "id": "28d1cfee-9998-4979-947b-307022e8577a",
   "metadata": {},
   "outputs": [],
   "source": [
    "s5='''Write a program to filter count vowels in the below-given string.\n",
    "string = \"I want to become a data scientist\" '''"
   ]
  },
  {
   "cell_type": "code",
   "execution_count": 10,
   "id": "c095e736-3124-4d55-ac6c-d76f7f65367b",
   "metadata": {},
   "outputs": [
    {
     "name": "stdout",
     "output_type": "stream",
     "text": [
      " Number of vowels in the given string is : 12\n"
     ]
    }
   ],
   "source": [
    "string = \"I want to become a data scientist\"\n",
    "c=0\n",
    "for x in string:\n",
    "    if x.lower() in \"aeiou\":\n",
    "        c=c+1\n",
    "print(\" Number of vowels in the given string is :\" , c)"
   ]
  },
  {
   "cell_type": "code",
   "execution_count": null,
   "id": "a39d1b98-bd45-4177-9348-6fd6e19bb8e4",
   "metadata": {},
   "outputs": [],
   "source": []
  }
 ],
 "metadata": {
  "kernelspec": {
   "display_name": "Python 3 (ipykernel)",
   "language": "python",
   "name": "python3"
  },
  "language_info": {
   "codemirror_mode": {
    "name": "ipython",
    "version": 3
   },
   "file_extension": ".py",
   "mimetype": "text/x-python",
   "name": "python",
   "nbconvert_exporter": "python",
   "pygments_lexer": "ipython3",
   "version": "3.10.8"
  }
 },
 "nbformat": 4,
 "nbformat_minor": 5
}
