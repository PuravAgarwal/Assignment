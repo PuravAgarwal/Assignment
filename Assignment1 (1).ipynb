{
 "cells": [
  {
   "cell_type": "code",
   "execution_count": 1,
   "id": "cefdfd87-87cb-4e99-961f-e23dd9ae0f19",
   "metadata": {},
   "outputs": [
    {
     "data": {
      "text/plain": [
       "\"\\nQ1: Who developed Python Programming Language?\\n● Guido Van Rossum developed the Python Programming Language in 1989.\\nQ2: Which type of Programming does Python support?\\n● Python supports multiple programming paradigms i.e. object oriented\\nprogramming, procedural and functional programming.\\nQ3: Is Python case sensitive when dealing with identifiers?\\n● Yes Python is case sensitive when dealing with identifiers.\\nQ4: What is the correct extension of the Python file?\\n● Correct extension of Python file is .py\\nQ5: Is Python code compiled or interpreted?\\n● Python is both compiled and interpreted but the compilation part is hidden to\\nreduce the complexity for the user.\\nQ6: Name a few blocks of code used to define in Python language?\\n● IF\\n● IF- Else\\n● IF-Else-IF\\n● For\\n● While\\n● Do while\\nQ7:State a character used to give single-line comments in Python?\\n● Hash ‘#’ is used to give a single line comment in Python.\\nQ8: Mention functions which can help us to find the version of python that we are\\ncurrently working on?\\n● The function which can help us to find the version of python that we are currently\\nworking on is python_version().\\nQ9: Python supports the creation of anonymous functions at runtime, using a\\nconstruct called\\n● lambda\\nQ10: What does pip stand for python?\\n● Pip in Python stands for Package Management system.\\nQ11: Mention a few built-in functions in python?\\n● type()\\n● len()\\n● list()\\n● input()\\n● int()\\n● float()\\nQ12: What is the maximum possible length of an identifier in Python?\\n● There is no maximum length of an identifier in Python but as per PEP-8 we\\nshould limit it to a maximum of 79 characters for better readability.\\nQ13: What are the benefits of using Python?\\n● It has a large standard libraries which is free to use\\n● Easy to understand and user friendly\\n● Simple and easy syntax to reduce complexity for the user\\nQ14: How is memory managed in Python?\\n● When we declare variables in Python, it does not create a new space in the\\nmemory it directs/points the variable in the memory where the value is stored. It\\nfollows dynamic memory allocation unlike java,c,c++.\\nQ15: How to install Python on Windows and set path variables?\\n● Install python from this link https://www.python.org/downloads/\\n● After this, install it on your PC. Look for the location where PYTHON has been\\ninstalled on your PC using the following command on your command prompt:\\ncmd python.\\n● Then go to advanced system settings and add new variable and name it as\\nPYTHON_NAME and paste the copied path.\\n● Then look for the path variable, select it's value and select edit\\n● Add a semicolon towards the end of the value if it's not present and then type\\n%PYTHON_HOME%\\nQ16: Is indentation required in python?\\n● Yes indentation is very important and required in Python\\n\""
      ]
     },
     "execution_count": 1,
     "metadata": {},
     "output_type": "execute_result"
    }
   ],
   "source": [
    "'''\n",
    "Q1: Who developed Python Programming Language?\n",
    "● Guido Van Rossum developed the Python Programming Language in 1989.\n",
    "Q2: Which type of Programming does Python support?\n",
    "● Python supports multiple programming paradigms i.e. object oriented\n",
    "programming, procedural and functional programming.\n",
    "Q3: Is Python case sensitive when dealing with identifiers?\n",
    "● Yes Python is case sensitive when dealing with identifiers.\n",
    "Q4: What is the correct extension of the Python file?\n",
    "● Correct extension of Python file is .py\n",
    "Q5: Is Python code compiled or interpreted?\n",
    "● Python is both compiled and interpreted but the compilation part is hidden to\n",
    "reduce the complexity for the user.\n",
    "Q6: Name a few blocks of code used to define in Python language?\n",
    "● IF\n",
    "● IF- Else\n",
    "● IF-Else-IF\n",
    "● For\n",
    "● While\n",
    "● Do while\n",
    "Q7:State a character used to give single-line comments in Python?\n",
    "● Hash ‘#’ is used to give a single line comment in Python.\n",
    "Q8: Mention functions which can help us to find the version of python that we are\n",
    "currently working on?\n",
    "● The function which can help us to find the version of python that we are currently\n",
    "working on is python_version().\n",
    "Q9: Python supports the creation of anonymous functions at runtime, using a\n",
    "construct called\n",
    "● lambda\n",
    "Q10: What does pip stand for python?\n",
    "● Pip in Python stands for Package Management system.\n",
    "Q11: Mention a few built-in functions in python?\n",
    "● type()\n",
    "● len()\n",
    "● list()\n",
    "● input()\n",
    "● int()\n",
    "● float()\n",
    "Q12: What is the maximum possible length of an identifier in Python?\n",
    "● There is no maximum length of an identifier in Python but as per PEP-8 we\n",
    "should limit it to a maximum of 79 characters for better readability.\n",
    "Q13: What are the benefits of using Python?\n",
    "● It has a large standard libraries which is free to use\n",
    "● Easy to understand and user friendly\n",
    "● Simple and easy syntax to reduce complexity for the user\n",
    "Q14: How is memory managed in Python?\n",
    "● When we declare variables in Python, it does not create a new space in the\n",
    "memory it directs/points the variable in the memory where the value is stored. It\n",
    "follows dynamic memory allocation unlike java,c,c++.\n",
    "Q15: How to install Python on Windows and set path variables?\n",
    "● Install python from this link https://www.python.org/downloads/\n",
    "● After this, install it on your PC. Look for the location where PYTHON has been\n",
    "installed on your PC using the following command on your command prompt:\n",
    "cmd python.\n",
    "● Then go to advanced system settings and add new variable and name it as\n",
    "PYTHON_NAME and paste the copied path.\n",
    "● Then look for the path variable, select it's value and select edit\n",
    "● Add a semicolon towards the end of the value if it's not present and then type\n",
    "%PYTHON_HOME%\n",
    "Q16: Is indentation required in python?\n",
    "● Yes indentation is very important and required in Python\n",
    "'''"
   ]
  },
  {
   "cell_type": "code",
   "execution_count": null,
   "id": "0497cc73-6592-4071-903b-859d274e807b",
   "metadata": {},
   "outputs": [],
   "source": []
  }
 ],
 "metadata": {
  "kernelspec": {
   "display_name": "Python 3 (ipykernel)",
   "language": "python",
   "name": "python3"
  },
  "language_info": {
   "codemirror_mode": {
    "name": "ipython",
    "version": 3
   },
   "file_extension": ".py",
   "mimetype": "text/x-python",
   "name": "python",
   "nbconvert_exporter": "python",
   "pygments_lexer": "ipython3",
   "version": "3.10.8"
  }
 },
 "nbformat": 4,
 "nbformat_minor": 5
}
