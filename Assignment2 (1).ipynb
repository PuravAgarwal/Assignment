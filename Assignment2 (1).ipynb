{
 "cells": [
  {
   "cell_type": "code",
   "execution_count": 11,
   "id": "8be28d61-b6dc-4946-85b6-e814d130a8d6",
   "metadata": {},
   "outputs": [],
   "source": [
    "s1= '''Q1 WAP to accept percentage from user and\n",
    "display the grade according to the following criteria'''"
   ]
  },
  {
   "cell_type": "code",
   "execution_count": 3,
   "id": "128a274b-73a7-4fd3-b7b6-5a5201773418",
   "metadata": {},
   "outputs": [
    {
     "name": "stdin",
     "output_type": "stream",
     "text": [
      " Enter Percentage Obtained 89\n"
     ]
    },
    {
     "name": "stdout",
     "output_type": "stream",
     "text": [
      "Grade B\n"
     ]
    }
   ],
   "source": [
    "a = int( input ( \" Enter Percentage Obtained\"))\n",
    "if a > 100 or a<0: \n",
    "    print( \"Enter valid percentage\")\n",
    "else:\n",
    "    if a>90:\n",
    "        print(\"Grade A\")\n",
    "    elif a>80 and a<=90:\n",
    "        print(\"Grade B\")\n",
    "    elif a>=60 and a<=80:\n",
    "        print(\"Grade C\")\n",
    "    else:\n",
    "        print(\"Grade D\")"
   ]
  },
  {
   "cell_type": "code",
   "execution_count": 4,
   "id": "2e728527-b819-496e-9cab-5c52b91b0b7a",
   "metadata": {},
   "outputs": [],
   "source": [
    "s2 = '''Write a program to accept the cost price of\n",
    "a bike and display the road tax to be paid according \n",
    "to the following criteria'''"
   ]
  },
  {
   "cell_type": "code",
   "execution_count": 7,
   "id": "e1286a45-8cd3-48e9-a2a8-dbe8e2a939fe",
   "metadata": {},
   "outputs": [
    {
     "name": "stdin",
     "output_type": "stream",
     "text": [
      "Enter cost of the bike 303493\n"
     ]
    },
    {
     "name": "stdout",
     "output_type": "stream",
     "text": [
      "Road Tax to be paid= 45523.95\n"
     ]
    }
   ],
   "source": [
    "cost = int(input(\"Enter cost of the bike\"))\n",
    "tax=0.0\n",
    "if cost>0:\n",
    "    if cost>100000:\n",
    "        tax= cost*0.15\n",
    "    elif cost>50000 and cost<100000:\n",
    "        tax = cost*0.1\n",
    "    else:\n",
    "        tax= cost*0.05\n",
    "    print(\"Road Tax to be paid=\", tax)\n",
    "else: \n",
    "    print(\" Enter Valid Cost\")"
   ]
  },
  {
   "cell_type": "code",
   "execution_count": 9,
   "id": "a360f3c6-ae3c-4c87-ac66-bc952b840106",
   "metadata": {},
   "outputs": [],
   "source": [
    "s3= '''Accept any city from the user and display\n",
    "monuments of that city. ''' "
   ]
  },
  {
   "cell_type": "code",
   "execution_count": 12,
   "id": "868ff31a-8040-4d6f-83f1-fc48c606ae42",
   "metadata": {},
   "outputs": [
    {
     "name": "stdin",
     "output_type": "stream",
     "text": [
      "Enter City AgRA\n"
     ]
    },
    {
     "name": "stdout",
     "output_type": "stream",
     "text": [
      "Monument: Tag Mahal\n"
     ]
    }
   ],
   "source": [
    "city= input(\"Enter City\")\n",
    "if city.lower() == \"delhi\":\n",
    "    print(\"Monument: Red Fort\")\n",
    "elif city.lower() == \"agra\":\n",
    "    print(\"Monument: Tag Mahal\")\n",
    "elif city.lower() == \"jaipur\":\n",
    "    print(\"Monument: Jal Mahal\")\n",
    "else:\n",
    "    print(\"Sorry no data in this city\")\n",
    "    "
   ]
  },
  {
   "cell_type": "code",
   "execution_count": 13,
   "id": "63ae6ec3-181d-4991-a7e4-37c8f788fca5",
   "metadata": {},
   "outputs": [],
   "source": [
    "s4='''Check how many times a given number can be\n",
    "divided by 3 before it is less than or equal to 10'''"
   ]
  },
  {
   "cell_type": "code",
   "execution_count": 17,
   "id": "7d7fb9fe-4217-4a1b-a016-f7e0d386bde0",
   "metadata": {},
   "outputs": [
    {
     "name": "stdin",
     "output_type": "stream",
     "text": [
      "Enter a number 9999\n"
     ]
    },
    {
     "name": "stdout",
     "output_type": "stream",
     "text": [
      "The number can be divided by 3:- 7 times before it is less than or equal to 10\n"
     ]
    }
   ],
   "source": [
    "num= int(input(\"Enter a number\"))\n",
    "a,c=num,0\n",
    "while a>10:\n",
    "    a=a//3\n",
    "    c=c+1\n",
    "print(\"The number can be divided by 3:-\", c , \"times before it is less than or equal to 10\")"
   ]
  },
  {
   "cell_type": "code",
   "execution_count": 18,
   "id": "df8a1a9f-e07a-42f9-bbd7-a70e0daad7fc",
   "metadata": {},
   "outputs": [],
   "source": [
    "s5= '''Why and When to Use while Loop in Python give a detailed description with example \n",
    "\n",
    "\n",
    "We use while loop when the number of iteration is not fixed i.e. when we don't know the \n",
    "number of times is loop is going to run. When we know the number of iterations we use for loop\n",
    "\n",
    "Ex:- \n",
    "\n",
    "a=int(input(\"Enter a number\"))\n",
    "c=0\n",
    "while(a>0):\n",
    "   a=a//10 \n",
    "   c=c+1\n",
    "print(\"The number contains\", c, \"digits\")\n",
    "\n",
    "For this question if we write in for loop it will be very difficult and complicated thus here \n",
    "while is more useful'''"
   ]
  },
  {
   "cell_type": "code",
   "execution_count": 1,
   "id": "8274e14a-8150-42eb-9fc6-b4dca95e1788",
   "metadata": {},
   "outputs": [],
   "source": [
    "s6= ''' Use nested while loop to print 3 \n",
    "different pattern.''' "
   ]
  },
  {
   "cell_type": "code",
   "execution_count": 2,
   "id": "e080bdb1-93ef-450c-aad0-4a1651f87fc8",
   "metadata": {},
   "outputs": [
    {
     "name": "stdin",
     "output_type": "stream",
     "text": [
      "Enter number of times you want to see 3 paterns 1\n",
      "Enter a number 5\n"
     ]
    },
    {
     "name": "stdout",
     "output_type": "stream",
     "text": [
      "*****\n",
      "****\n",
      "***\n",
      "**\n",
      "*\n",
      "#\n",
      "##\n",
      "###\n",
      "####\n",
      "#####\n",
      "55555\n",
      "4444\n",
      "333\n",
      "22\n",
      "1\n",
      "Thank You\n"
     ]
    }
   ],
   "source": [
    "d= int(input(\"Enter number of times you want to see 3 paterns\"))\n",
    "while (d>0):\n",
    "    c1= int(input(\"Enter a number\"))\n",
    "    d1=c1\n",
    "    while(d1>0):\n",
    "        print('*'*d1 )\n",
    "        d1=d1-1\n",
    "    d1=1\n",
    "    while(d1<=c1):\n",
    "        print('#'*d1)\n",
    "        d1=d1+1\n",
    "    while(c1>0):\n",
    "        d1=c1\n",
    "        while(d1>0):\n",
    "            print(c1, end=\"\")\n",
    "            d1=d1-1\n",
    "        c1=c1-1\n",
    "        print()\n",
    "    d=d-1\n",
    "print(\"Thank You\")"
   ]
  },
  {
   "cell_type": "code",
   "execution_count": 3,
   "id": "ea37ed78-ee62-49a4-8230-af0cfbc0250b",
   "metadata": {},
   "outputs": [],
   "source": [
    "s7= '''Reverse a while loop display from 10 to 1'''"
   ]
  },
  {
   "cell_type": "code",
   "execution_count": 8,
   "id": "7a592b19-f204-4993-b52e-84c8972b256f",
   "metadata": {},
   "outputs": [
    {
     "name": "stdout",
     "output_type": "stream",
     "text": [
      "10 9 8 7 6 5 4 3 2 1 "
     ]
    }
   ],
   "source": [
    "v=10\n",
    "while(v>0):\n",
    "    print( v , end= \" \")\n",
    "    v=v-1"
   ]
  },
  {
   "cell_type": "code",
   "execution_count": 9,
   "id": "b8089ae9-d4eb-443d-849f-1421472b6628",
   "metadata": {},
   "outputs": [],
   "source": [
    "s8 = '''Reverse a while loop display from 10 to 1\n",
    "Same as previous one'''\n"
   ]
  },
  {
   "cell_type": "code",
   "execution_count": 10,
   "id": "707c46ab-9448-4d40-a60c-eaa4432f3c69",
   "metadata": {},
   "outputs": [
    {
     "name": "stdout",
     "output_type": "stream",
     "text": [
      "10 9 8 7 6 5 4 3 2 1 "
     ]
    }
   ],
   "source": [
    "v=10\n",
    "while(v>0):\n",
    "    print( v , end= \" \")\n",
    "    v=v-1"
   ]
  },
  {
   "cell_type": "code",
   "execution_count": null,
   "id": "b950cf60-fb39-4f42-940f-944a908bfad3",
   "metadata": {},
   "outputs": [],
   "source": []
  }
 ],
 "metadata": {
  "kernelspec": {
   "display_name": "Python 3 (ipykernel)",
   "language": "python",
   "name": "python3"
  },
  "language_info": {
   "codemirror_mode": {
    "name": "ipython",
    "version": 3
   },
   "file_extension": ".py",
   "mimetype": "text/x-python",
   "name": "python",
   "nbconvert_exporter": "python",
   "pygments_lexer": "ipython3",
   "version": "3.10.8"
  }
 },
 "nbformat": 4,
 "nbformat_minor": 5
}
