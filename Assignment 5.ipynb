{
 "cells": [
  {
   "cell_type": "code",
   "execution_count": 31,
   "id": "588827f4-21aa-4f18-8bee-f41e1dfdb61e",
   "metadata": {},
   "outputs": [],
   "source": [
    "S1= '''Q1. Create a python program to sort the given list of tuples based on integer value using a\n",
    "lambda function.\n",
    "[('Sachin Tendulkar', 34357), ('Ricky Ponting', 27483), ('Jack Kallis', 25534), ('Virat Kohli', 24936)]'''\n"
   ]
  },
  {
   "cell_type": "code",
   "execution_count": 30,
   "id": "e2fde53a-d9c9-4fad-b2aa-6b72a0a905c5",
   "metadata": {},
   "outputs": [
    {
     "name": "stdout",
     "output_type": "stream",
     "text": [
      "[('Virat Kohli', 24936), ('Jack Kallis', 25534), ('Ricky Ponting', 27483), ('Sachin Tendulkar', 34357)]\n"
     ]
    }
   ],
   "source": [
    "l = [('Sachin Tendulkar', 34357), ('Ricky Ponting', 27483), ('Jack Kallis', 25534), ('Virat Kohli', 24936)]\n",
    "a = sorted(l, key=lambda x: x[1])\n",
    "print(a)"
   ]
  },
  {
   "cell_type": "code",
   "execution_count": 2,
   "id": "88a7c078-acad-450c-acd7-a3c518492516",
   "metadata": {},
   "outputs": [],
   "source": [
    "s2= '''Q2. Write a Python Program to find the squares of all the numbers in the given list of integers using\n",
    "lambda and map functions.\n",
    "[1, 2, 3, 4, 5, 6, 7, 8, 9, 10]'''"
   ]
  },
  {
   "cell_type": "code",
   "execution_count": 3,
   "id": "c13ddb6c-1958-4f6e-9a3b-3f4a3885c763",
   "metadata": {},
   "outputs": [
    {
     "data": {
      "text/plain": [
       "[1, 4, 9, 16, 25, 36, 49, 64, 81, 100]"
      ]
     },
     "execution_count": 3,
     "metadata": {},
     "output_type": "execute_result"
    }
   ],
   "source": [
    "l = [1,2,3,4,5,6,7,8,9,10]\n",
    "list(map(lambda x: x**2 , l ))"
   ]
  },
  {
   "cell_type": "code",
   "execution_count": 4,
   "id": "1e2b72e3-eb1b-4923-a576-67ef2863ac4b",
   "metadata": {},
   "outputs": [],
   "source": [
    "s3= '''Write a python program to convert the given list of integers into a tuple of strings. Use map and\n",
    "lambda functions\n",
    "Given String: [1, 2, 3, 4, 5, 6, 7, 8, 9, 10]\n",
    "Expected output: ('1', '2', '3', '4', '5', '6', '7', '8', '9', '10')'''"
   ]
  },
  {
   "cell_type": "code",
   "execution_count": 6,
   "id": "f7ab3003-5e85-419b-b7f5-12d684fe6a30",
   "metadata": {},
   "outputs": [
    {
     "data": {
      "text/plain": [
       "('1', '2', '3', '4', '5', '6', '7', '8', '9', '10')"
      ]
     },
     "execution_count": 6,
     "metadata": {},
     "output_type": "execute_result"
    }
   ],
   "source": [
    "l = [1, 2, 3, 4, 5, 6, 7, 8, 9, 10]\n",
    "tuple ( map(lambda x : str(x) , l))"
   ]
  },
  {
   "cell_type": "code",
   "execution_count": 7,
   "id": "a8400688-d56c-4ebb-b037-f59a5e45d100",
   "metadata": {},
   "outputs": [],
   "source": [
    "s4= '''Write a python program using reduce function to compute the product of a list containing numbers\n",
    "from 1 to 25.'''"
   ]
  },
  {
   "cell_type": "code",
   "execution_count": 10,
   "id": "70c91eb6-c21f-4275-92c9-207719cd158f",
   "metadata": {},
   "outputs": [
    {
     "data": {
      "text/plain": [
       "15511210043330985984000000"
      ]
     },
     "execution_count": 10,
     "metadata": {},
     "output_type": "execute_result"
    }
   ],
   "source": [
    "l= [x for x in range( 1,26)]\n",
    "from functools import reduce\n",
    "reduce( lambda x,y : x*y , l)"
   ]
  },
  {
   "cell_type": "code",
   "execution_count": null,
   "id": "e097c340-82a1-4b0b-bef5-f1ee8633285c",
   "metadata": {},
   "outputs": [],
   "source": [
    "s5= ''' Q5. Write a python program to filter the numbers in a given list that are\n",
    "divisible by 2 and 3 using the filter function.\n",
    "[2, 3, 6, 9, 27, 60, 90, 120, 55, 46]''' "
   ]
  },
  {
   "cell_type": "code",
   "execution_count": 12,
   "id": "a8f8fa3c-c7ed-4793-a2cc-f08df7ae7aa3",
   "metadata": {},
   "outputs": [
    {
     "data": {
      "text/plain": [
       "[6, 60, 90, 120]"
      ]
     },
     "execution_count": 12,
     "metadata": {},
     "output_type": "execute_result"
    }
   ],
   "source": [
    "l= [2, 3, 6, 9, 27, 60, 90, 120, 55, 46]\n",
    "list(filter( lambda x : x%2==0 and x%3==0, l))"
   ]
  },
  {
   "cell_type": "code",
   "execution_count": 13,
   "id": "924b88dd-3ecb-424d-b567-df9792373ab4",
   "metadata": {},
   "outputs": [],
   "source": [
    "s6 = '''Q6. Write a python program to find palindromes in the given list of strings using lambda and filter\n",
    "function.\n",
    "['python', 'php', 'aba', 'radar', 'level']'''"
   ]
  },
  {
   "cell_type": "code",
   "execution_count": 14,
   "id": "32f14173-5be1-41f7-a73a-2701d89b518e",
   "metadata": {},
   "outputs": [
    {
     "data": {
      "text/plain": [
       "['php', 'aba', 'radar', 'level']"
      ]
     },
     "execution_count": 14,
     "metadata": {},
     "output_type": "execute_result"
    }
   ],
   "source": [
    "l = ['python', 'php', 'aba', 'radar', 'level']\n",
    "list( filter( lambda x : x[::-1] == x, l ))"
   ]
  },
  {
   "cell_type": "code",
   "execution_count": null,
   "id": "e579f137-0fed-454e-bc7a-df16cd825cef",
   "metadata": {},
   "outputs": [],
   "source": []
  }
 ],
 "metadata": {
  "kernelspec": {
   "display_name": "Python 3 (ipykernel)",
   "language": "python",
   "name": "python3"
  },
  "language_info": {
   "codemirror_mode": {
    "name": "ipython",
    "version": 3
   },
   "file_extension": ".py",
   "mimetype": "text/x-python",
   "name": "python",
   "nbconvert_exporter": "python",
   "pygments_lexer": "ipython3",
   "version": "3.10.8"
  }
 },
 "nbformat": 4,
 "nbformat_minor": 5
}
